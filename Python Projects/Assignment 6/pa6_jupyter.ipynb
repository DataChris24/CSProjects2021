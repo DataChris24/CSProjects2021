{
 "cells": [
  {
   "cell_type": "markdown",
   "metadata": {},
   "source": [
    "# Programming Assignment 6\n",
    "CptS 215 Fall 2020<br>\n",
    "Date: 12/06/2020<br>\n",
    "Author: Christopher Mims\n"
   ]
  },
  {
   "cell_type": "markdown",
   "metadata": {},
   "source": [
    "## Build Initial Graph\n",
    "The first thing we need to do to play the Kevin Bacon game is to build an initial graph of all actors with their connections through the movies they appeared in. We were given three files, one with actors/actresses and a corresponding reference number, another with movies and corresponding reference numbers, and the last had the movie/actor reference number pairs. Each of these files needs to be read in and then a graph is built out the results. I chose to read in the actor and movie files as dictionaries. This allowed me to reference an actor/movie with its corresponding reference number. Then I also read in the movies-actors file as a dictionary. This allowed me to walk through that dictionary and pair all actors with a movie creating edges in the graph. Since we need the graph to be able to traverse in any direction at this point, I added each connection both ways: actor1 with actor2 through movie1 and actor2 with actor1 through movie1. Doing this allows for the breadth first search (BFS) to find the shortest routes.<br>\n",
    "<b>Note:</b> Minor changes to base classes were made to change \"weight\" measure to a string and not a numeric, as well as string statements to help with debugging."
   ]
  },
  {
   "cell_type": "code",
   "execution_count": 1,
   "metadata": {},
   "outputs": [],
   "source": [
    "from pa6_base_classes import *\n",
    "import collections\n",
    "import networkx as nxg\n",
    "import matplotlib.pyplot as plt\n",
    "\n",
    "amGraph = Graph()\n",
    "actors = {}\n",
    "movies = {}\n",
    "movie_actors = {}\n",
    "\n",
    "def build_initial_Graph():\n",
    "    # This reads in the actors file and creates a dictionary\n",
    "    with open(\"./data/actors.txt\", 'r', encoding=\"latin-1\") as file1:\n",
    "        for line in file1:\n",
    "            text1 = line.split(\"|\")\n",
    "            actors[text1[0]] = text1[1].strip()\n",
    "    file1.close()\n",
    "\n",
    "    # This reads in the movies file and creates a dictionary\n",
    "    with open(\"./data/movies.txt\", 'r', encoding=\"latin-1\") as file2:\n",
    "        for line in file2:\n",
    "            text2 = line.split(\"|\")\n",
    "            movies[text2[0]] = text2[1].strip()\n",
    "    file2.close()\n",
    "\n",
    "    # This reads in the movie-actors file and creates a dictionary\n",
    "    with open(\"./data/movie-actors.txt\", 'r', encoding=\"latin-1\") as file3:\n",
    "        for line in file3:\n",
    "            text3 = line.split(\"|\")\n",
    "            key = text3[0]\n",
    "            movie_actors.setdefault(key, [])  # this sets up the list for each value to be appended to, setdefault initializes a key if one is not given\n",
    "            movie_actors[key].append(text3[1].strip())\n",
    "    file3.close()\n",
    "\n",
    "    # This goes through the movies-actors dictionary and adds all the vertecies/edges to the graph\n",
    "    for key, value in movie_actors.items():\n",
    "        for i in range(len(value)):\n",
    "            for j in range(i + 1, len(value)):\n",
    "                amGraph.add_edge(actors.get(value[i]), actors.get(value[j]), movies.get(key))\n",
    "                amGraph.add_edge(actors.get(value[j]), actors.get(value[i]), movies.get(key))\n",
    "\n",
    "build_initial_Graph()"
   ]
  },
  {
   "cell_type": "markdown",
   "metadata": {},
   "source": [
    "## Build BFS Graph\n",
    "Now that we have the inital graph with all connections between actors/actresses through their movies, we can build a BFS graph that will give us the shortest path back to Kevin Bacon from any actor or actress.<br>\n",
    "It is important to note that since there is no \"weight\" between actors/actresses, there is no use in using Dijkstra's algorithm for this instance. If we were to \"weight\" each movie based on its gross revenue, then the use of Dijkstra's algorithm could find the path to Kevin Bacon through the lowest grossing films.<br>\n",
    "I used Python's ADT Deque in order to perform my BFS and build my graph. While building the graph, I updated the predecessor and distance variables for each actor/actress. This allows for the traversal back from any actor/actress to Kevin Bacon without first traversing through the graph to get to the actor/actress. It also allows for some statistical analysis of the graph, assigning a \"Bacon number\" to each actor/actress.<br>\n",
    "<b>Notes:</b> When building the BFS, we need to reference the inital graph to find the connections, but then add a new vertex to the BRS graph. Troubles in this area for me was knowing when to reference the actual vertex or the name of the vertex. I was trying to get the actual vertex and was only getting a copy and was unable to update the predecessor and distance until I able to add each one as a vertex, then reference them to create the edges."
   ]
  },
  {
   "cell_type": "code",
   "execution_count": 2,
   "metadata": {},
   "outputs": [],
   "source": [
    "def build_bfs_Graph():\n",
    "    bfs = Graph()\n",
    "    q = collections.deque([amGraph.get_vertex('Kevin Bacon')])\n",
    "    bfs.add_vertex('Kevin Bacon')\n",
    "\n",
    "    while q:\n",
    "        V_dest = q.pop()\n",
    "        if V_dest.connected_to.items() is not None: \n",
    "            for key, value in V_dest.connected_to.items():\n",
    "                if key.ID not in bfs:\n",
    "                    V_dest = bfs.get_vertex(V_dest.ID)\n",
    "                    V_src = bfs.add_vertex(key.ID, V_dest.distance + 1, bfs.get_vertex(V_dest.ID))\n",
    "                    bfs.add_edge(V_dest.ID, V_src.ID, value)\n",
    "                    q.appendleft(amGraph.get_vertex(V_src.ID))\n",
    "    return bfs\n",
    "\n",
    "T = build_bfs_Graph()"
   ]
  },
  {
   "cell_type": "markdown",
   "metadata": {},
   "source": [
    "## Search and Return Results\n",
    "The next step in this process is being able to find the actor or actress in the graph and walk back to the root, Kevin Bacon. With my earlier implementation, I was able to accomplish this through the use of the predecessor variable. I was able to store the reference to the predecessor vertex in each of the vertices. Since Kevin Bacon does not have a predecessor, this loop can run until it hits a \"None\" for the predecessor. This fuction will need to take the name of the actor/actress (will become important in the user interface later). If the actor/actess is not found in the graph, it will return \"Actor not connected to Kevin Bacon.\" Otherwise, it will return each actor/actress and movies starred in that connect them to Kevin Bacon."
   ]
  },
  {
   "cell_type": "code",
   "execution_count": 3,
   "metadata": {},
   "outputs": [],
   "source": [
    "def find_actor(name):\n",
    "    if name == \"\":\n",
    "        return\n",
    "    curr = T.get_vertex(name)\n",
    "    if curr is not None:\n",
    "        next = curr.predecessor\n",
    "        while next is not None:\n",
    "            movie = next.connected_to[curr]\n",
    "            print(curr.ID,\n",
    "                \"appeared in\",\n",
    "                movie,\n",
    "                \"with\",\n",
    "                next.ID)\n",
    "            curr = next\n",
    "            next = curr.predecessor\n",
    "    else:\n",
    "        print(\"Actor not connected to Kevin Bacon.\")"
   ]
  },
  {
   "cell_type": "markdown",
   "metadata": {},
   "source": [
    "<i>Examples:</i>"
   ]
  },
  {
   "cell_type": "code",
   "execution_count": 4,
   "metadata": {},
   "outputs": [
    {
     "name": "stdout",
     "output_type": "stream",
     "text": [
      "Finding Paul Walker's connection:\n",
      "Paul Walker appeared in 2 Fast 2 Furious (2003) with Cole Hauser\n",
      "Cole Hauser appeared in Hi-Lo Country, The (1998) with Billy Crudup\n",
      "Billy Crudup appeared in Sleepers (1996) with Kevin Bacon\n",
      "\n",
      "\n",
      "Finding Sandra Bullock's connection:\n",
      "Sandra Bullock appeared in Vanishing, The (1993) with Kiefer Sutherland\n",
      "Kiefer Sutherland appeared in Flatliners (1990) with Kevin Bacon\n",
      "\n",
      "\n",
      "Finding Will Smith's connection:\n",
      "Will Smith appeared in Men in Black (1997) with Linda Fiorentino\n",
      "Linda Fiorentino appeared in Queens Logic (1991) with Kevin Bacon\n",
      "\n",
      "\n"
     ]
    }
   ],
   "source": [
    "actorsExamples = [\"Paul Walker\", \"Sandra Bullock\", \"Will Smith\"]\n",
    "for actor in actorsExamples:\n",
    "    print(\"Finding \" + actor + \"'s connection:\")\n",
    "    find_actor(actor)\n",
    "    print(\"\\n\")"
   ]
  },
  {
   "cell_type": "markdown",
   "metadata": {},
   "source": [
    "## User Interface\n",
    "The final step to play the game is to have a user interface/interaction with the program. In this section we will need the user to enter a name of an actor or actress. This will repeat until the user simply presses the enter key without any input. "
   ]
  },
  {
   "cell_type": "code",
   "execution_count": 5,
   "metadata": {},
   "outputs": [
    {
     "name": "stdout",
     "output_type": "stream",
     "text": [
      "To quit program, press return (no entry).\n",
      "Enter the name of an actor/actress: \n"
     ]
    }
   ],
   "source": [
    "print(\"To quit program, press return (no entry).\")\n",
    "actor_name = \"bacon\"\n",
    "\n",
    "while actor_name != \"\":\n",
    "    actor_name = input(\"Enter the name of an actor/actress: \")\n",
    "    find_actor(actor_name)\n"
   ]
  },
  {
   "cell_type": "markdown",
   "metadata": {},
   "source": [
    "## Visualizing Results of a Search\n",
    "Now that we can represent the connection with printed statements, how about we visualize the connections graphically?<br>\n",
    "In order to visualize the connections graphically, we will need to use the collection networkx. "
   ]
  },
  {
   "cell_type": "code",
   "execution_count": 7,
   "metadata": {},
   "outputs": [
    {
     "data": {
      "image/png": "[encoded data removed]",
      "text/plain": [
       "<Figure size 432x288 with 1 Axes>"
      ]
     },
     "metadata": {},
     "output_type": "display_data"
    }
   ],
   "source": [
    "def visualize_graph(name):\n",
    "    viz = nxg.Graph()\n",
    "    w = 3 # Setting the weight integer\n",
    "\n",
    "\n",
    "    curr = T.get_vertex(name)\n",
    "    if curr:\n",
    "        next = curr.predecessor\n",
    "        viz.add_node(curr.ID)\n",
    "        while next is not None:\n",
    "            movie = next.connected_to[curr]\n",
    "            viz.add_node(next.ID)\n",
    "            viz.add_edge(next.ID, curr.ID, weight = w, label = movie, font_color='r')\n",
    "            curr = next\n",
    "            next = curr.predecessor\n",
    "    \n",
    "    pos = nxg.spring_layout(viz)\n",
    "    edge_labels = nxg.get_edge_attributes(viz, 'label')\n",
    "    nxg.draw(viz, pos, with_labels=True, node_color='lightblue', node_shape='s', node_size=1500, font_size=10, font_weight='bold')\n",
    "    nxg.draw_networkx_edge_labels(viz, pos, edge_labels, font_color = 'red', font_weight='bold')\n",
    "    plt.show()\n",
    "\n",
    "\n",
    "name = 'Paul Walker'\n",
    "visualize_graph(name)"
   ]
  },
  {
   "cell_type": "markdown",
   "metadata": {},
   "source": [
    "## Statistics\n",
    "Now to do some statistics on the graph.<br>\n",
    "### Highest Bacon Number\n",
    "One statistic is to find the highest Bacon number of the actors that are connected to Kevin Bacon.<br>\n",
    "The following function iterates through each actor in the actor's list, checks to see if that actor is in the BFS subgraph, then compares the Bacon number to the highest Bacon number found so far."
   ]
  },
  {
   "cell_type": "code",
   "execution_count": 8,
   "metadata": {},
   "outputs": [
    {
     "name": "stdout",
     "output_type": "stream",
     "text": [
      "Richard Arlen  has the highest Bacon number at  8\n"
     ]
    }
   ],
   "source": [
    "def high_Bacon():\n",
    "    highest = None\n",
    "    for actor in actors.items():\n",
    "        temp = actor[1]\n",
    "        act = T.get_vertex(temp)\n",
    "        if act:\n",
    "            if highest is None:\n",
    "                highest = act\n",
    "            if act.distance > highest.distance:\n",
    "                highest = act\n",
    "\n",
    "    return highest.ID, highest.distance\n",
    "\n",
    "highBacon = high_Bacon()\n",
    "print(highBacon[0], \" has the highest Bacon number at \", highBacon[1])"
   ]
  },
  {
   "cell_type": "markdown",
   "metadata": {},
   "source": [
    "### Average Bacon Number\n",
    "Another statistic is to find the average Bacon number of the actors that are connected to Kevin Bacon<br>\n",
    "The following function iterates through each actor and if the actor is in the BFS subgraph, it increments a count and adds the Bacon number to a running total. Once all actors have been iterated through, the total is divided by the count to generate the average."
   ]
  },
  {
   "cell_type": "code",
   "execution_count": 9,
   "metadata": {},
   "outputs": [
    {
     "name": "stdout",
     "output_type": "stream",
     "text": [
      "The average Bacon number is: 3.28\n"
     ]
    }
   ],
   "source": [
    "def average_Bacon():\n",
    "    num = 0\n",
    "    sum = 0\n",
    "    for actor in actors.items():\n",
    "        act = T.get_vertex(actor[1])\n",
    "        if act:\n",
    "            num += 1\n",
    "            sum += act.distance\n",
    "    avg = sum / num \n",
    "    return avg\n",
    "\n",
    "average = average_Bacon()\n",
    "print(\"The average Bacon number is: {0:.2f}\".format(average))"
   ]
  }
 ],
 "metadata": {
  "kernelspec": {
   "display_name": "Python 3",
   "language": "python",
   "name": "python3"
  },
  "language_info": {
   "codemirror_mode": {
    "name": "ipython",
    "version": 3
   },
   "file_extension": ".py",
   "mimetype": "text/x-python",
   "name": "python",
   "nbconvert_exporter": "python",
   "pygments_lexer": "ipython3",
   "version": "3.8.3"
  }
 },
 "nbformat": 4,
 "nbformat_minor": 4
}
